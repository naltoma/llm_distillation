{
 "cells": [
  {
   "cell_type": "code",
   "execution_count": 1,
   "metadata": {},
   "outputs": [
    {
     "name": "stdout",
     "output_type": "stream",
     "text": [
      "len(train_dataset)=1045\n",
      "train_texts[0]='結婚しても働くのはなぜ？ 既婚女性のつぶやき\\n\\u3000「彼の収入が少ないから私も働かなければならないし、それを思うと結婚はもう少し先でもいいかな」と結婚を躊躇する独女がいる。彼女は彼の収入だけで暮らせるのなら、仕事は今すぐにでも辞めたいらしい。つまり専業主婦志望なのだが、彼の年収を聞いて首を傾げた。\\n\\n\\u3000この金額で本当に生活ができないのだろうか？ \\n\\n\\u3000かつて専業主婦が多かった時代、主婦の働き先はなく、今月もかつかつだとこぼしながらも、夫の稼ぎだけで暮らしていた家庭が多かった。しかし今は不況で夫の収入が減ったとはいえ、外食、ブランド品購入、安いツアーとはいえ海外旅行にも行っている。食べるだけで精一杯の昔に比べれば、ものすごく贅沢ではないだろうか？\\n\\u3000\\n\\u3000成人した二人の子供がいる専業主婦の紀世子さん（56 歳）は、「今は専業主婦がセレブのように言われますけど、私はブランド品も持ったことがなければ、家族で海外旅行にも行ったことがないんですよ。夫の収入だけで充分とはいいませんけど、贅沢さえしなければ毎月何とかなったものです」という。\\n\\u3000\\n\\u3000子供が小学校に入学すると、塾の費用を捻出するためにパートに行く主婦もいたが、紀世子さんの家庭はご主人の方針で塾には一切通わせず、兄は水泳、妹は習字と、週に一度の習い事に通わせただけだそうだ。\\n\\n\\u3000「私立中学受験で塾に通わせているご家庭は大変そうでしたよ。塾の費用が一か月5万円と聞いてびっくりしました。そこまでして私立に行かせて、その後も莫大な教育費がかかるのに大変だとあと思いました」\\n\\n\\u3000紀世子さんの長女は私立の女子大学に入学したが、中学・高校から持ち上がりできた友人には小学校の時の同級生もいる。「中高一貫教育の必要性はよく分かりませんが、結局同じ大学に通うなら何も高い教育費を払って中学から行く必要がないのでは？」これは私の考えですがと紀世子さん。\\n\\n\\u3000仕事に生きがいを持ち自分のために働いている主婦もいるが、家族で海外旅行に行ったり外食をしたり、生活水準を上げるために働いている主婦もいる。自分の稼ぎでブランド品を買う主婦もいるが、やはり主婦の働く目的の大半は子供の教育費の捻出だろう。\\n\\n\\u3000教育費は、子どもが生まれてから大学卒業まで一般に1000万円以上もかかると言われている。幼稚園から大学まで私立なら2000万円は超す。となれば教育費のために働かなければならないわけだが、幼稚園から私立にやるのはどうしてなのだろうか？\\n\\n\\u3000「子供に誇れる学歴をつけてやりたいからです」\\n\\n\\u3000私立幼稚園入学を目指している幼児の母親、A子さんはいうが、誇れるとはすなわち母親の価値観で、他の子と比べて自分の子供は特別なことをさせているという母親自身の見栄もあるのかもしれない。\\n子供を私立幼稚園に行かせたり、ブランドの服を着せたりすれば、母親もそれに見合う服装やバックを身につけなければならなくなる。\\n\\u3000\\n\\u3000そういう生活がしたいけれど、夫の収入でできなければ、我慢すればいい。我慢できなければ働けばいい。けれど、働く目的が子供のためであるなら、なにが本当に子供にとって幸せなのかを考えるべきではないだろうか。\\n\\n\\u3000彼の収入が少ないとか夫の稼ぎが足りないとこぼす女性たちの胸の内は、なくてもいいものをあえて欲しがる暮らしを求めている気がする。\\n人と競い合うことで向上することもあるが、家庭における幸せとは決して比べたり競い合うものではないと思う。\\n\\n\\u3000前述の紀世子さんだが、学校から帰ってくるといつも「お帰りなさい」と待っていてくれるお母さんがいてくれて嬉しかったと成人した娘さんから言われたそうだ。\\n「能力も資格もないので家にいて節約しているだけの生活でしたが、子供と過ごせた時間は楽しかったですよ」\\n\\u3000\\n\\u3000養ってくれた夫にも感謝しているという紀世子さんの言葉がものすごく新鮮に聞こえた。\\n\\n\\u3000働いて得るものもあるが、節約して作った時間で得るものもある。彼の収入が少ないと思うのなら、やりくりという算段を覚えることをしてみてはどうだろうか？ 結婚はいろいろ頭で考えているより、実際生活をしてみればなるようになるものです。（オフィスエムツー／佐枝せつこ）'\n",
      "train_labels[0]=0\n"
     ]
    }
   ],
   "source": [
    "import os\n",
    "import torch\n",
    "from torch.utils.data import DataLoader, random_split\n",
    "from transformers import BertJapaneseTokenizer, BertForSequenceClassification, Trainer, TrainingArguments, EarlyStoppingCallback\n",
    "import pandas as pd\n",
    "from sklearn.model_selection import train_test_split\n",
    "from sklearn.metrics import accuracy_score\n",
    "import time\n",
    "\n",
    "model_name = \"cl-tohoku/bert-base-japanese-v3\"\n",
    "tokenizer = BertJapaneseTokenizer.from_pretrained(model_name)\n",
    "\n",
    "# データの読み込みと前処理\n",
    "def load_data(directory):\n",
    "    texts, labels = [], []\n",
    "    for label, category in enumerate([\"dokujo-tsushin\", \"it-life-hack\"]):\n",
    "        category_dir = os.path.join(directory, category)\n",
    "        for file in os.listdir(category_dir):\n",
    "            if os.path.isfile(os.path.join(category_dir, file)):\n",
    "                with open(os.path.join(category_dir, file), 'r', encoding='utf-8') as f:\n",
    "                    lines = f.readlines()[2:]  # 最初の2行をスキップ\n",
    "                    text = ''.join(lines).strip()\n",
    "                    texts.append(text)\n",
    "                    labels.append(label)\n",
    "    return texts, labels\n",
    "\n",
    "home_dir = os.path.expanduser(\"~\")\n",
    "data_dir = os.path.join(home_dir, \"data/livedoor-text\")\n",
    "texts, labels = load_data(data_dir)\n",
    "\n",
    "# データセットの分割\n",
    "train_texts, test_texts, train_labels, test_labels = train_test_split(texts, labels, test_size=0.4, random_state=1)\n",
    "val_texts, test_texts, val_labels, test_labels = train_test_split(test_texts, test_labels, test_size=0.5, random_state=1)\n",
    "\n",
    "# データセットの準備\n",
    "class LivedoorDataset(torch.utils.data.Dataset):\n",
    "    def __init__(self, encodings, labels):\n",
    "        self.encodings = encodings\n",
    "        self.labels = labels\n",
    "\n",
    "    def __getitem__(self, idx):\n",
    "        item = {key: torch.tensor(val[idx]) for key, val in self.encodings.items()}\n",
    "        item['labels'] = torch.tensor(self.labels[idx])\n",
    "        return item\n",
    "\n",
    "    def __len__(self):\n",
    "        return len(self.labels)\n",
    "\n",
    "train_encodings = tokenizer(train_texts, truncation=True, padding=True, max_length=512)\n",
    "val_encodings = tokenizer(val_texts, truncation=True, padding=True, max_length=512)\n",
    "test_encodings = tokenizer(test_texts, truncation=True, padding=True, max_length=512)\n",
    "\n",
    "train_dataset = LivedoorDataset(train_encodings, train_labels)\n",
    "val_dataset = LivedoorDataset(val_encodings, val_labels)\n",
    "test_dataset = LivedoorDataset(test_encodings, test_labels)\n",
    "\n",
    "print(f\"{len(train_dataset)=}\")\n",
    "print(f\"{train_texts[0]=}\")\n",
    "print(f\"{train_labels[0]=}\")\n"
   ]
  },
  {
   "cell_type": "code",
   "execution_count": 3,
   "metadata": {},
   "outputs": [
    {
     "name": "stdout",
     "output_type": "stream",
     "text": [
      "Vocabulary size: 32768, Embedding dimension: 768\n"
     ]
    }
   ],
   "source": [
    "import torch\n",
    "from torch.utils.data import DataLoader\n",
    "from transformers import BertForSequenceClassification, BertJapaneseTokenizer\n",
    "import numpy as np\n",
    "\n",
    "# 教師モデルとトークナイザの読み込み\n",
    "model_path = \"./finetuned_bert_japanese\"\n",
    "model = BertForSequenceClassification.from_pretrained(model_path)\n",
    "tokenizer = BertJapaneseTokenizer.from_pretrained(\"cl-tohoku/bert-base-japanese-v3\")\n",
    "\n",
    "# 教師モデルのembedding layerのパラメータを取得\n",
    "vocab_size = model.bert.embeddings.word_embeddings.num_embeddings\n",
    "embedding_dim = model.bert.embeddings.word_embeddings.embedding_dim\n",
    "print(f\"Vocabulary size: {vocab_size}, Embedding dimension: {embedding_dim}\")\n",
    "\n",
    "# データセットの準備（前のステップで作成したものを再利用）\n",
    "# ...\n",
    "\n",
    "# データセットから教師モデルの出力を取得する関数\n",
    "def get_model_outputs(dataset):\n",
    "    dataloader = DataLoader(dataset, batch_size=8)\n",
    "    model.eval()\n",
    "    outputs = []\n",
    "    for batch in dataloader:\n",
    "        inputs = {k: v.to(model.device) for k, v in batch.items() if k != 'labels'}\n",
    "        with torch.no_grad():\n",
    "            logits = model(**inputs).logits\n",
    "            probs = torch.nn.functional.softmax(logits, dim=-1)\n",
    "            outputs.append(probs.cpu().numpy())\n",
    "    return np.concatenate(outputs, axis=0)\n",
    "\n",
    "# train, val, testデータセットから教師モデルの出力を取得\n",
    "train_outputs = get_model_outputs(train_dataset)\n",
    "val_outputs = get_model_outputs(val_dataset)\n",
    "test_outputs = get_model_outputs(test_dataset)\n",
    "\n",
    "# 教師モデルの出力を保存（必要に応じて）\n",
    "np.save('train_outputs.npy', train_outputs)\n",
    "np.save('val_outputs.npy', val_outputs)\n",
    "np.save('test_outputs.npy', test_outputs)\n",
    "\n",
    "# 教師モデルをメモリから削除\n",
    "del model\n"
   ]
  }
 ],
 "metadata": {
  "kernelspec": {
   "display_name": "opencalm",
   "language": "python",
   "name": "python3"
  },
  "language_info": {
   "codemirror_mode": {
    "name": "ipython",
    "version": 3
   },
   "file_extension": ".py",
   "mimetype": "text/x-python",
   "name": "python",
   "nbconvert_exporter": "python",
   "pygments_lexer": "ipython3",
   "version": "3.9.6"
  }
 },
 "nbformat": 4,
 "nbformat_minor": 2
}
